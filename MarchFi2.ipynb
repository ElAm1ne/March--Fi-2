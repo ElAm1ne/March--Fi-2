{
 "cells": [
  {
   "cell_type": "markdown",
   "metadata": {},
   "source": [
    "Install missing modules and imports"
   ]
  },
  {
   "cell_type": "code",
   "execution_count": 38,
   "metadata": {},
   "outputs": [],
   "source": [
    "import sys\n",
    "import subprocess\n",
    "import pkg_resources\n",
    "\n",
    "required = {'scipy', 'numpy', 'pandas', 'openpyxl', 'scikit-learn'}\n",
    "installed = {pkg.key for pkg in pkg_resources.working_set}\n",
    "missing = required - installed\n",
    "\n",
    "if missing:\n",
    "    python = sys.executable\n",
    "    subprocess.check_call([python, '-m', 'pip', 'install', *missing], stdout=subprocess.DEVNULL)\n",
    "\n",
    "import pandas as pd\n",
    "import numpy as np\n",
    "import math\n",
    "from sklearn.model_selection import train_test_split"
   ]
  },
  {
   "cell_type": "markdown",
   "metadata": {},
   "source": [
    "Transform to PD"
   ]
  },
  {
   "cell_type": "code",
   "execution_count": 15,
   "metadata": {},
   "outputs": [],
   "source": [
    "file = 'data.xlsx'\n",
    "df = [pd.read_excel(file, sheet_name = sheet) for sheet in ['CAC', 'DAX', 'IBEX35TR', 'IBEX', 'SX5E', 'SX5T', 'SMI']]\n",
    "for i in range(len(df)):\n",
    "    df[i] = df[i].drop(0)"
   ]
  },
  {
   "cell_type": "markdown",
   "metadata": {},
   "source": [
    "Helpers"
   ]
  },
  {
   "cell_type": "code",
   "execution_count": 47,
   "metadata": {},
   "outputs": [],
   "source": [
    "def MSE(A, B):\n",
    "    err = 0\n",
    "    for i in range(len(A)):\n",
    "        payoff = max(A[i] - K, 0)\n",
    "        err += (payoff - B[i])**2\n",
    "    return err\n",
    "\n",
    "def g(x):\n",
    "    return max(x-K, 0)\n",
    "\n",
    "def Calculate_Kd_Ku(L):\n",
    "    Ku = np.ones(len(L[0]))\n",
    "    Kd = np.ones(len(L[0]))\n",
    "\n",
    "    for i in range(len(L)):\n",
    "        for j in range(len(L[i])):\n",
    "            if L[i].iloc[j]['S1/S'] > Ku[j] :\n",
    "                Ku[j] = L[i].iloc[j]['S1/S']\n",
    "            if L[i].iloc[j]['S1/S'] < Kd[j] :\n",
    "                Kd[j] = L[i].iloc[j]['S1/S']\n",
    "                \n",
    "    return (Ku, Kd)\n",
    "\n",
    "def Ku_Kd_Train(Data_train):\n",
    "    Kus = []\n",
    "    Kds = []\n",
    "    for i in range(len(Data_train)):\n",
    "        Ku_, Kd_ = Calculate_Kd_Ku(Data_train[i])\n",
    "        Kus.append(Ku_)\n",
    "        Kds.append(Ku_)\n",
    "    return Kus, Kds\n",
    "\n"
   ]
  },
  {
   "cell_type": "markdown",
   "metadata": {},
   "source": [
    "Split data train test"
   ]
  },
  {
   "cell_type": "code",
   "execution_count": 24,
   "metadata": {},
   "outputs": [],
   "source": [
    "'''\n",
    "train_per = 0.6\n",
    "train = [df[i].iloc[:math.floor(train_per*df[i].shape[0]) - math.floor(train_per*df[i].shape[0]) % 10] for i in range(len(df))]\n",
    "test = [df[i].iloc[math.floor(train_per*df[i].shape[0]) - math.floor(train_per*df[i].shape[0]) % 10:(df[i].shape[0]//10)*10] for i in range(len(df))]\n",
    "'''"
   ]
  },
  {
   "attachments": {},
   "cell_type": "markdown",
   "metadata": {},
   "source": [
    "Méthode I : Variante Min sur Dizaine"
   ]
  },
  {
   "cell_type": "code",
   "execution_count": 43,
   "metadata": {},
   "outputs": [],
   "source": [
    "CAC_40 = df[0].iloc[:len(df[0])-len(df[0])%10]\n",
    "n = 3\n",
    "p = 0.6\n",
    "CAC_40_split = np.array_split(CAC_40,10*n)\n",
    "Data_train = []\n",
    "Data_test = []\n",
    "for i in range(len(CAC_40_split)):\n",
    "    Data_train.append(CAC_40_split[i].iloc[:int(p*len(CAC_40_split[i]) - p*len(CAC_40_split[i])%10)])\n",
    "    Data_test.append(CAC_40_split[i].iloc[int(p*len(CAC_40_split[i]) - p*len(CAC_40_split[i])%10):int(len(CAC_40_split[i]))])"
   ]
  },
  {
   "attachments": {},
   "cell_type": "markdown",
   "metadata": {},
   "source": [
    "Calcul de Ku, Kd"
   ]
  },
  {
   "cell_type": "code",
   "execution_count": 49,
   "metadata": {},
   "outputs": [
    {
     "ename": "KeyError",
     "evalue": "0",
     "output_type": "error",
     "traceback": [
      "\u001b[1;31m---------------------------------------------------------------------------\u001b[0m",
      "\u001b[1;31mKeyError\u001b[0m                                  Traceback (most recent call last)",
      "File \u001b[1;32mc:\\Users\\amine\\AppData\\Local\\Programs\\Python\\Python311\\Lib\\site-packages\\pandas\\core\\indexes\\base.py:3803\u001b[0m, in \u001b[0;36mIndex.get_loc\u001b[1;34m(self, key, method, tolerance)\u001b[0m\n\u001b[0;32m   3802\u001b[0m \u001b[39mtry\u001b[39;00m:\n\u001b[1;32m-> 3803\u001b[0m     \u001b[39mreturn\u001b[39;00m \u001b[39mself\u001b[39;49m\u001b[39m.\u001b[39;49m_engine\u001b[39m.\u001b[39;49mget_loc(casted_key)\n\u001b[0;32m   3804\u001b[0m \u001b[39mexcept\u001b[39;00m \u001b[39mKeyError\u001b[39;00m \u001b[39mas\u001b[39;00m err:\n",
      "File \u001b[1;32mc:\\Users\\amine\\AppData\\Local\\Programs\\Python\\Python311\\Lib\\site-packages\\pandas\\_libs\\index.pyx:138\u001b[0m, in \u001b[0;36mpandas._libs.index.IndexEngine.get_loc\u001b[1;34m()\u001b[0m\n",
      "File \u001b[1;32mc:\\Users\\amine\\AppData\\Local\\Programs\\Python\\Python311\\Lib\\site-packages\\pandas\\_libs\\index.pyx:165\u001b[0m, in \u001b[0;36mpandas._libs.index.IndexEngine.get_loc\u001b[1;34m()\u001b[0m\n",
      "File \u001b[1;32mpandas\\_libs\\hashtable_class_helper.pxi:5745\u001b[0m, in \u001b[0;36mpandas._libs.hashtable.PyObjectHashTable.get_item\u001b[1;34m()\u001b[0m\n",
      "File \u001b[1;32mpandas\\_libs\\hashtable_class_helper.pxi:5753\u001b[0m, in \u001b[0;36mpandas._libs.hashtable.PyObjectHashTable.get_item\u001b[1;34m()\u001b[0m\n",
      "\u001b[1;31mKeyError\u001b[0m: 0",
      "\nThe above exception was the direct cause of the following exception:\n",
      "\u001b[1;31mKeyError\u001b[0m                                  Traceback (most recent call last)",
      "Cell \u001b[1;32mIn[49], line 4\u001b[0m\n\u001b[0;32m      2\u001b[0m Kds \u001b[39m=\u001b[39m []\n\u001b[0;32m      3\u001b[0m \u001b[39mfor\u001b[39;00m i \u001b[39min\u001b[39;00m \u001b[39mrange\u001b[39m(\u001b[39mlen\u001b[39m(Data_train)):\n\u001b[1;32m----> 4\u001b[0m     Ku_, Kd_ \u001b[39m=\u001b[39m Calculate_Kd_Ku(Data_train[i])\n\u001b[0;32m      5\u001b[0m     Kus\u001b[39m.\u001b[39mappend(Ku_)\n\u001b[0;32m      6\u001b[0m     Kds\u001b[39m.\u001b[39mappend(Ku_)\n",
      "Cell \u001b[1;32mIn[47], line 12\u001b[0m, in \u001b[0;36mCalculate_Kd_Ku\u001b[1;34m(L)\u001b[0m\n\u001b[0;32m     11\u001b[0m \u001b[39mdef\u001b[39;00m \u001b[39mCalculate_Kd_Ku\u001b[39m(L):\n\u001b[1;32m---> 12\u001b[0m     Ku \u001b[39m=\u001b[39m np\u001b[39m.\u001b[39mones(\u001b[39mlen\u001b[39m(L[\u001b[39m0\u001b[39;49m]))\n\u001b[0;32m     13\u001b[0m     Kd \u001b[39m=\u001b[39m np\u001b[39m.\u001b[39mones(\u001b[39mlen\u001b[39m(L[\u001b[39m0\u001b[39m]))\n\u001b[0;32m     15\u001b[0m     \u001b[39mfor\u001b[39;00m i \u001b[39min\u001b[39;00m \u001b[39mrange\u001b[39m(\u001b[39mlen\u001b[39m(L)):\n",
      "File \u001b[1;32mc:\\Users\\amine\\AppData\\Local\\Programs\\Python\\Python311\\Lib\\site-packages\\pandas\\core\\frame.py:3805\u001b[0m, in \u001b[0;36mDataFrame.__getitem__\u001b[1;34m(self, key)\u001b[0m\n\u001b[0;32m   3803\u001b[0m \u001b[39mif\u001b[39;00m \u001b[39mself\u001b[39m\u001b[39m.\u001b[39mcolumns\u001b[39m.\u001b[39mnlevels \u001b[39m>\u001b[39m \u001b[39m1\u001b[39m:\n\u001b[0;32m   3804\u001b[0m     \u001b[39mreturn\u001b[39;00m \u001b[39mself\u001b[39m\u001b[39m.\u001b[39m_getitem_multilevel(key)\n\u001b[1;32m-> 3805\u001b[0m indexer \u001b[39m=\u001b[39m \u001b[39mself\u001b[39;49m\u001b[39m.\u001b[39;49mcolumns\u001b[39m.\u001b[39;49mget_loc(key)\n\u001b[0;32m   3806\u001b[0m \u001b[39mif\u001b[39;00m is_integer(indexer):\n\u001b[0;32m   3807\u001b[0m     indexer \u001b[39m=\u001b[39m [indexer]\n",
      "File \u001b[1;32mc:\\Users\\amine\\AppData\\Local\\Programs\\Python\\Python311\\Lib\\site-packages\\pandas\\core\\indexes\\base.py:3805\u001b[0m, in \u001b[0;36mIndex.get_loc\u001b[1;34m(self, key, method, tolerance)\u001b[0m\n\u001b[0;32m   3803\u001b[0m     \u001b[39mreturn\u001b[39;00m \u001b[39mself\u001b[39m\u001b[39m.\u001b[39m_engine\u001b[39m.\u001b[39mget_loc(casted_key)\n\u001b[0;32m   3804\u001b[0m \u001b[39mexcept\u001b[39;00m \u001b[39mKeyError\u001b[39;00m \u001b[39mas\u001b[39;00m err:\n\u001b[1;32m-> 3805\u001b[0m     \u001b[39mraise\u001b[39;00m \u001b[39mKeyError\u001b[39;00m(key) \u001b[39mfrom\u001b[39;00m \u001b[39merr\u001b[39;00m\n\u001b[0;32m   3806\u001b[0m \u001b[39mexcept\u001b[39;00m \u001b[39mTypeError\u001b[39;00m:\n\u001b[0;32m   3807\u001b[0m     \u001b[39m# If we have a listlike key, _check_indexing_error will raise\u001b[39;00m\n\u001b[0;32m   3808\u001b[0m     \u001b[39m#  InvalidIndexError. Otherwise we fall through and re-raise\u001b[39;00m\n\u001b[0;32m   3809\u001b[0m     \u001b[39m#  the TypeError.\u001b[39;00m\n\u001b[0;32m   3810\u001b[0m     \u001b[39mself\u001b[39m\u001b[39m.\u001b[39m_check_indexing_error(key)\n",
      "\u001b[1;31mKeyError\u001b[0m: 0"
     ]
    }
   ],
   "source": [
    "Kus = []\n",
    "Kds = []\n",
    "for i in range(len(Data_train)):\n",
    "    Ku_, Kd_ = Calculate_Kd_Ku(Data_train[i])\n",
    "    Kus.append(Ku_)\n",
    "    Kds.append(Ku_)\n",
    "    \n",
    "print(Kus)\n",
    "print(Kds)"
   ]
  },
  {
   "cell_type": "code",
   "execution_count": 20,
   "metadata": {},
   "outputs": [],
   "source": [
    "def test(L, Ku, Kd):\n",
    "    lamda = [(1 - Kd[i])/(Ku[i] - Kd[i]) for i in range(len(Ku))]\n",
    "\n",
    "    V = []\n",
    "    VT = []\n",
    "    ST = []\n",
    "    for i in range(len(L)):\n",
    "        D = []\n",
    "        for j in range(len(L[i])):\n",
    "            if j == 0:\n",
    "                D.append(L[i].iloc[j]['PX_LAST'])\n",
    "            else:\n",
    "                Teta = (g(Ku[j]*L[i].iloc[j]['PX_LAST'])*lamda[j] + g(Kd[j]*L[i].iloc[j]['PX_LAST'])*(1-lamda[j]))/((Ku[j]-Kd[j])*L[i].iloc[j]['PX_LAST'])\n",
    "                print(Teta)\n",
    "                D.append(D[-1] + Teta*L[i].iloc[j]['D_S'])\n",
    "        V.append(D)\n",
    "        VT.append(D[-1])\n",
    "        ST.append(L[i].iloc[len(L[i])-1]['PX_LAST'])\n",
    "        print(ST[-1])\n",
    "        print(VT[-1])\n",
    "\n",
    "    return MSE(ST, VT)"
   ]
  },
  {
   "cell_type": "code",
   "execution_count": 23,
   "metadata": {},
   "outputs": [
    {
     "name": "stdout",
     "output_type": "stream",
     "text": [
      "6.439233469270239\n",
      "7.410538007696552\n",
      "7.441789613483811\n",
      "4.372969634575683\n",
      "7.623282536441189\n",
      "4.7631278133738775\n",
      "5.3240559877536935\n",
      "4.414081073104131\n",
      "4.6366977969931735\n",
      "5424.43\n",
      "6159.20912907253\n",
      "22418133.401100826\n"
     ]
    }
   ],
   "source": [
    "CAC_train = train_CAC40[:10]\n",
    "CAC_test = train_CAC40[10:11]\n",
    "\n",
    "val, Ku, Kd = train(CAC_train)\n",
    "\n",
    "Val = test(CAC_test, Ku, Kd)\n",
    "\n",
    "print(Val)"
   ]
  }
 ],
 "metadata": {
  "kernelspec": {
   "display_name": "Python 3",
   "language": "python",
   "name": "python3"
  },
  "language_info": {
   "codemirror_mode": {
    "name": "ipython",
    "version": 3
   },
   "file_extension": ".py",
   "mimetype": "text/x-python",
   "name": "python",
   "nbconvert_exporter": "python",
   "pygments_lexer": "ipython3",
   "version": "3.11.1"
  },
  "orig_nbformat": 4,
  "vscode": {
   "interpreter": {
    "hash": "d83e6637c887f91061be390792ac498ddd2096ac09764be14f2c9b7371d40541"
   }
  }
 },
 "nbformat": 4,
 "nbformat_minor": 2
}
