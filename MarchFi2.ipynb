{
 "cells": [
  {
   "cell_type": "markdown",
   "metadata": {},
   "source": [
    "Install missing modules and imports"
   ]
  },
  {
   "cell_type": "code",
   "execution_count": null,
   "metadata": {},
   "outputs": [],
   "source": [
    "import sys\n",
    "import subprocess\n",
    "import pkg_resources\n",
    "\n",
    "required = {'scipy', 'numpy', 'pandas', 'openpyxl', 'scikit-learn', 'numba', 'matplotlib'}\n",
    "installed = {pkg.key for pkg in pkg_resources.working_set}\n",
    "missing = required - installed\n",
    "\n",
    "if missing:\n",
    "    python = sys.executable\n",
    "    subprocess.check_call([python, '-m', 'pip', 'install', *missing], stdout=subprocess.DEVNULL)\n",
    "\n",
    "import pandas as pd\n",
    "import numpy as np\n",
    "import math\n",
    "from sklearn.model_selection import train_test_split\n",
    "import numba as nb\n",
    "import matplotlib.pyplot as plt"
   ]
  },
  {
   "cell_type": "markdown",
   "metadata": {},
   "source": [
    "Transform to PD"
   ]
  },
  {
   "cell_type": "code",
   "execution_count": null,
   "metadata": {},
   "outputs": [],
   "source": [
    "file = 'data.xlsx'\n",
    "df = [pd.read_excel(file, sheet_name = sheet) for sheet in ['CAC', 'DAX', 'IBEX35TR', 'IBEX', 'SX5E', 'SX5T', 'SMI']]\n",
    "for i in range(len(df)):\n",
    "    df[i] = df[i].drop(0)"
   ]
  },
  {
   "cell_type": "markdown",
   "metadata": {},
   "source": [
    "Helpers"
   ]
  },
  {
   "cell_type": "code",
   "execution_count": null,
   "metadata": {},
   "outputs": [],
   "source": [
    "def erreur(A, B):\n",
    "    return abs(min(B - A,0)) - max(B-A,0)\n",
    "\n",
    "def g(x):\n",
    "    return max(x-K, 0)\n",
    "\n",
    "def Calculate_Kd_Ku(L):\n",
    "    Ku = np.ones(len(L))\n",
    "    Kd = np.ones(len(L))\n",
    "    for j in range(len(L)):\n",
    "        if L.iloc[j]['S1/S'] > Ku[i] :\n",
    "            Ku[i] = L.iloc[j]['S1/S']\n",
    "        if L.iloc[j]['S1/S'] < Kd[i] :\n",
    "            Kd[i] = L.iloc[j]['S1/S']\n",
    "                \n",
    "    return (Ku, Kd)\n",
    "\n",
    "def Ku_Kd_Train(Data_train):\n",
    "    Kus = []\n",
    "    Kds = []\n",
    "    for i in range(len(Data_train)):\n",
    "        Ku_, Kd_ = Calculate_Kd_Ku(Data_train[i])\n",
    "        Kus.append(max(Ku_))\n",
    "        Kds.append(min(Kd_))\n",
    "    return Kus, Kds \n"
   ]
  },
  {
   "cell_type": "markdown",
   "metadata": {},
   "source": [
    "Split data train test"
   ]
  },
  {
   "attachments": {},
   "cell_type": "markdown",
   "metadata": {},
   "source": [
    "Méthode I : Variante Min sur Dizaine"
   ]
  },
  {
   "cell_type": "code",
   "execution_count": null,
   "metadata": {},
   "outputs": [],
   "source": [
    "CAC_40 = df[0].iloc[:len(df[0])-len(df[0])%10]\n",
    "#p un pourcentage de Train % Test\n",
    "#n nombre de jour au total dans le cycle Train + Test\n",
    "#L de la forme dataframe des données de chaque jour\n",
    "def create_train_test(L,p,n):\n",
    "    CAC_40_split = np.array_split(L,len(CAC_40)/(n))\n",
    "    CAC_40_split = [CAC_40_split[i].iloc[:len(CAC_40_split[i]) - len(CAC_40_split[i])%10] for i in range(len(CAC_40_split))]\n",
    "    Data_train = []\n",
    "    Data_test = []\n",
    "    for i in range(len(CAC_40_split)):\n",
    "        Data_train.append(CAC_40_split[i].iloc[:int(p*len(CAC_40_split[i]) - p*len(CAC_40_split[i])%10)])\n",
    "        Data_test.append(CAC_40_split[i].iloc[int(p*len(CAC_40_split[i]) - p*len(CAC_40_split[i])%10):int(len(CAC_40_split[i]))])\n",
    "    return Data_train, Data_test"
   ]
  },
  {
   "attachments": {},
   "cell_type": "markdown",
   "metadata": {},
   "source": [
    "Calcul de Ku, Kd"
   ]
  },
  {
   "cell_type": "code",
   "execution_count": null,
   "metadata": {},
   "outputs": [],
   "source": [
    "#L de la forme [[s1,s2,s3,...], [s1,s2,s3,...], [s1,s2,s3,...], ...]\n",
    "def test(L, Ku, Kd):\n",
    "    lamda = [(1 - Kd[i])/(Ku[i] - Kd[i]) for i in range(len(Ku))]\n",
    "    err = 0\n",
    "    BS_qs = []\n",
    "    VTs = []\n",
    "    PAYOFFs = []\n",
    "    Errs = []\n",
    "    STs = []\n",
    "    for i in range(len(L)):\n",
    "        D = []\n",
    "        BS_q = []\n",
    "        for j in range(len(L[i])):\n",
    "            if j == 0:\n",
    "                D.append(L[i].iloc[j]['PX_LAST'])\n",
    "                Teta = 1\n",
    "            else:\n",
    "                Teta = (g(Ku[i]*L[i].iloc[j]['PX_LAST'])*lamda[j] + g(Kd[i]*L[i].iloc[j]['PX_LAST'])*(1-lamda[j]))/((Ku[i]-Kd[i])*L[i].iloc[j]['PX_LAST'])\n",
    "                D.append(D[-1] + Teta*L[i].iloc[j]['D_S'])\n",
    "            BS_q.append(Teta)\n",
    "        VT = D[-1]\n",
    "        ST = L[i].iloc[len(L[i])-1]['PX_LAST']\n",
    "        PAYOFF = g(ST)\n",
    "        err += erreur(PAYOFF, VT)\n",
    "        BS_qs.append(BS_q)\n",
    "        Errs.append(err/len(L))\n",
    "        VTs.append(VT)\n",
    "        PAYOFFs.append(PAYOFF)\n",
    "        STs.append(ST)\n",
    "    err = err/len(L)\n",
    "    return err, VTs, PAYOFFs, STs, BS_qs, Errs"
   ]
  },
  {
   "cell_type": "code",
   "execution_count": null,
   "metadata": {},
   "outputs": [],
   "source": [
    "#data sous forme dataframe des données journalières\n",
    "#K strike\n",
    "#n nombre total de jours dans un cycle Train + Test multiple de 10\n",
    "#p pourcentage train % test\n",
    "def train_test(data,K,n,p):\n",
    "    Data_train, Data_test = create_train_test(data, p, n)\n",
    "    Kus, Kds = Ku_Kd_Train(Data_train)\n",
    "    error, VTs, PAYOFFs, STs, BS_qs, Errs = test(Data_test, Kus, Kds)\n",
    "    print(\"red : VT, yellow : PAYOFF, blue : ST, line : K\")\n",
    "    plt.plot(VTs, color = 'red')\n",
    "    plt.plot(PAYOFFs, color = 'yellow')\n",
    "    plt.plot(STs, color = 'blue')\n",
    "    plt.plot([K for i in range(len(STs))])\n",
    "    plt.show()\n",
    "    print(\"VT - PAYOFF\")\n",
    "    plt.plot(np.array(VTs) - np.array(PAYOFFs), color = 'red')\n",
    "    plt.show()\n",
    "    print(\"Cumulative Error\")\n",
    "    plt.plot(Errs, color = 'blue')\n",
    "    return n, p, error"
   ]
  },
  {
   "cell_type": "code",
   "execution_count": null,
   "metadata": {},
   "outputs": [],
   "source": [
    "train_test(CAC_40, 8000, 40,0.8)"
   ]
  },
  {
   "cell_type": "code",
   "execution_count": null,
   "metadata": {},
   "outputs": [],
   "source": [
    "g(5000)"
   ]
  }
 ],
 "metadata": {
  "kernelspec": {
   "display_name": "Python 3",
   "language": "python",
   "name": "python3"
  },
  "language_info": {
   "codemirror_mode": {
    "name": "ipython",
    "version": 3
   },
   "file_extension": ".py",
   "mimetype": "text/x-python",
   "name": "python",
   "nbconvert_exporter": "python",
   "pygments_lexer": "ipython3",
   "version": "3.10.7"
  },
  "orig_nbformat": 4,
  "vscode": {
   "interpreter": {
    "hash": "fb4569285eef3a3450cb62085a5b1e0da4bce0af555edc33dcf29baf3acc1368"
   }
  }
 },
 "nbformat": 4,
 "nbformat_minor": 2
}
