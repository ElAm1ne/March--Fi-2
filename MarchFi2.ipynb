{
 "cells": [
  {
   "cell_type": "markdown",
   "metadata": {},
   "source": [
    "Install missing modules and imports"
   ]
  },
  {
   "cell_type": "code",
   "execution_count": 26,
   "metadata": {},
   "outputs": [],
   "source": [
    "import sys\n",
    "import subprocess\n",
    "import pkg_resources\n",
    "\n",
    "required = {'scipy', 'numpy', 'pandas', 'openpyxl'}\n",
    "installed = {pkg.key for pkg in pkg_resources.working_set}\n",
    "missing = required - installed\n",
    "\n",
    "if missing:\n",
    "    python = sys.executable\n",
    "    subprocess.check_call([python, '-m', 'pip', 'install', *missing], stdout=subprocess.DEVNULL)\n",
    "\n",
    "import pandas as pd\n",
    "import numpy as np\n",
    "import math"
   ]
  },
  {
   "cell_type": "markdown",
   "metadata": {},
   "source": [
    "Transform to PD"
   ]
  },
  {
   "cell_type": "code",
   "execution_count": 23,
   "metadata": {},
   "outputs": [
    {
     "name": "stdout",
     "output_type": "stream",
     "text": [
      "       DATES  DELTA_DAYS  PX_LAST  PX_HIGH   PX_LOW  PX_VOLUME\n",
      "0 2000-11-21           1  6081.02  6116.82  6013.29   51658520\n",
      "       DATES  DELTA_DAYS  PX_LAST  PX_HIGH   PX_LOW\n",
      "0 2000-11-21           1  6678.07  6679.87  6571.56\n",
      "       DATES  DELTA_DAYS  PX_LAST  PX_HIGH   PX_LOW\n",
      "0 2000-11-21           1  12617.2  12617.2  12617.2\n",
      "       DATES  DELTA_DAYS  PX_LAST  PX_HIGH  PX_LOW  PX_VOLUME\n",
      "0 2000-11-21           1   9594.0   9645.9  9401.6   74854420\n",
      "       DATES  DELTA_DAYS  PX_LAST  PX_HIGH   PX_LOW  PX_VOLUME\n",
      "0 2000-11-21           1  4893.95  4901.48  4823.78  391603000\n",
      "       DATES  DELTA_DAYS  PX_LAST  PX_HIGH  PX_LOW  PX_VOLUME\n",
      "0 2000-11-21           1   6184.8   6184.8  6184.8  391603000\n",
      "       DATES  DELTA_DAYS  PX_BID  PX_ASK  PX_LAST  PX_HIGH  PX_LOW  PX_VOLUME\n",
      "0 2000-11-21           1  8151.5  8161.5   8155.1   8169.8  8098.8    5665443\n"
     ]
    }
   ],
   "source": [
    "file = 'data.xlsx'\n",
    "df = [pd.read_excel(file, sheet_name = sheet) for sheet in ['CAC', 'DAX', 'IBEX35TR', 'IBEX', 'SX5E', 'SX5T', 'SMI']]\n",
    "for page in df:\n",
    "    print(page.head(1))"
   ]
  },
  {
   "cell_type": "markdown",
   "metadata": {},
   "source": [
    "Split data train test"
   ]
  },
  {
   "cell_type": "code",
   "execution_count": 29,
   "metadata": {},
   "outputs": [],
   "source": [
    "train_per = 0.6\n",
    "train = [df[i].iloc[:math.floor(train_per*df[0].shape[0])] for i in range(len(df))]\n",
    "test = [df[i].iloc[math.floor(train_per*df[0].shape[0]):df[0].shape[0]] for i in range(len(df))]\n",
    "K = 5000"
   ]
  },
  {
   "cell_type": "markdown",
   "metadata": {},
   "source": [
    "Helpers"
   ]
  },
  {
   "cell_type": "code",
   "execution_count": 30,
   "metadata": {},
   "outputs": [],
   "source": [
    "def MSE(A, B):\n",
    "    err = 0\n",
    "    for i in range(len(A)):\n",
    "        payoff = max(A[i] - K, 0)\n",
    "        err += (payoff - B[i])**2\n",
    "    return err"
   ]
  }
 ],
 "metadata": {
  "kernelspec": {
   "display_name": "Python 3.11.1 64-bit",
   "language": "python",
   "name": "python3"
  },
  "language_info": {
   "codemirror_mode": {
    "name": "ipython",
    "version": 3
   },
   "file_extension": ".py",
   "mimetype": "text/x-python",
   "name": "python",
   "nbconvert_exporter": "python",
   "pygments_lexer": "ipython3",
   "version": "3.11.1"
  },
  "orig_nbformat": 4,
  "vscode": {
   "interpreter": {
    "hash": "d83e6637c887f91061be390792ac498ddd2096ac09764be14f2c9b7371d40541"
   }
  }
 },
 "nbformat": 4,
 "nbformat_minor": 2
}
