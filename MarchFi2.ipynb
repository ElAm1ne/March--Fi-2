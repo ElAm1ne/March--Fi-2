{
 "cells": [
  {
   "cell_type": "markdown",
   "metadata": {},
   "source": [
    "Install missing modules and imports"
   ]
  },
  {
   "cell_type": "code",
   "execution_count": 1,
   "metadata": {},
   "outputs": [],
   "source": [
    "import sys\n",
    "import subprocess\n",
    "import pkg_resources\n",
    "\n",
    "required = {'scipy', 'numpy', 'pandas', 'openpyxl'}\n",
    "installed = {pkg.key for pkg in pkg_resources.working_set}\n",
    "missing = required - installed\n",
    "\n",
    "if missing:\n",
    "    python = sys.executable\n",
    "    subprocess.check_call([python, '-m', 'pip', 'install', *missing], stdout=subprocess.DEVNULL)\n",
    "\n",
    "import pandas as pd\n",
    "import numpy as np\n",
    "import math"
   ]
  },
  {
   "cell_type": "markdown",
   "metadata": {},
   "source": [
    "Transform to PD"
   ]
  },
  {
   "cell_type": "code",
   "execution_count": 2,
   "metadata": {},
   "outputs": [],
   "source": [
    "file = 'data.xlsx'\n",
    "df = [pd.read_excel(file, sheet_name = sheet) for sheet in ['CAC', 'DAX', 'IBEX35TR', 'IBEX', 'SX5E', 'SX5T', 'SMI']]\n",
    "for i in range(len(df)):\n",
    "    df[i] = df[i].drop(0)"
   ]
  },
  {
   "cell_type": "markdown",
   "metadata": {},
   "source": [
    "Helpers"
   ]
  },
  {
   "cell_type": "code",
   "execution_count": 3,
   "metadata": {},
   "outputs": [],
   "source": [
    "def MSE(A, B):\n",
    "    err = 0\n",
    "    for i in range(len(A)):\n",
    "        payoff = max(A[i] - K, 0)\n",
    "        err += (payoff - B[i])**2\n",
    "    return err\n",
    "\n",
    "def g(x):\n",
    "    return max(x-K, 0)\n"
   ]
  },
  {
   "cell_type": "markdown",
   "metadata": {},
   "source": [
    "Split data train test"
   ]
  },
  {
   "cell_type": "code",
   "execution_count": 4,
   "metadata": {},
   "outputs": [],
   "source": [
    "train_per = 0.6\n",
    "train = [df[i].iloc[:math.floor(train_per*df[i].shape[0]) - math.floor(train_per*df[i].shape[0]) % 10] for i in range(len(df))]\n",
    "test = [df[i].iloc[math.floor(train_per*df[i].shape[0]) - math.floor(train_per*df[i].shape[0]) % 10:(df[i].shape[0]//10)*10] for i in range(len(df))]\n",
    "K = 5000"
   ]
  },
  {
   "cell_type": "markdown",
   "metadata": {},
   "source": [
    "Méthode I : Split en dizaine"
   ]
  },
  {
   "cell_type": "code",
   "execution_count": 5,
   "metadata": {},
   "outputs": [
    {
     "data": {
      "text/html": [
       "<div>\n",
       "<style scoped>\n",
       "    .dataframe tbody tr th:only-of-type {\n",
       "        vertical-align: middle;\n",
       "    }\n",
       "\n",
       "    .dataframe tbody tr th {\n",
       "        vertical-align: top;\n",
       "    }\n",
       "\n",
       "    .dataframe thead th {\n",
       "        text-align: right;\n",
       "    }\n",
       "</style>\n",
       "<table border=\"1\" class=\"dataframe\">\n",
       "  <thead>\n",
       "    <tr style=\"text-align: right;\">\n",
       "      <th></th>\n",
       "      <th>DATES</th>\n",
       "      <th>DELTA_DAYS</th>\n",
       "      <th>PX_LAST</th>\n",
       "      <th>PX_HIGH</th>\n",
       "      <th>PX_LOW</th>\n",
       "      <th>PX_VOLUME</th>\n",
       "      <th>S1/S</th>\n",
       "      <th>D_S</th>\n",
       "    </tr>\n",
       "  </thead>\n",
       "  <tbody>\n",
       "    <tr>\n",
       "      <th>1</th>\n",
       "      <td>2000-11-22</td>\n",
       "      <td>1</td>\n",
       "      <td>5944.70</td>\n",
       "      <td>6049.60</td>\n",
       "      <td>5937.37</td>\n",
       "      <td>47470800</td>\n",
       "      <td>0.977583</td>\n",
       "      <td>-136.32</td>\n",
       "    </tr>\n",
       "    <tr>\n",
       "      <th>2</th>\n",
       "      <td>2000-11-23</td>\n",
       "      <td>1</td>\n",
       "      <td>6053.04</td>\n",
       "      <td>6055.21</td>\n",
       "      <td>5933.08</td>\n",
       "      <td>37599950</td>\n",
       "      <td>1.018225</td>\n",
       "      <td>108.34</td>\n",
       "    </tr>\n",
       "    <tr>\n",
       "      <th>3</th>\n",
       "      <td>2000-11-24</td>\n",
       "      <td>1</td>\n",
       "      <td>6145.65</td>\n",
       "      <td>6162.88</td>\n",
       "      <td>5989.13</td>\n",
       "      <td>47878450</td>\n",
       "      <td>1.015300</td>\n",
       "      <td>92.61</td>\n",
       "    </tr>\n",
       "    <tr>\n",
       "      <th>4</th>\n",
       "      <td>2000-11-27</td>\n",
       "      <td>3</td>\n",
       "      <td>6171.33</td>\n",
       "      <td>6254.17</td>\n",
       "      <td>6167.45</td>\n",
       "      <td>40542910</td>\n",
       "      <td>1.004179</td>\n",
       "      <td>25.68</td>\n",
       "    </tr>\n",
       "    <tr>\n",
       "      <th>5</th>\n",
       "      <td>2000-11-28</td>\n",
       "      <td>1</td>\n",
       "      <td>6069.22</td>\n",
       "      <td>6172.77</td>\n",
       "      <td>6055.04</td>\n",
       "      <td>68980960</td>\n",
       "      <td>0.983454</td>\n",
       "      <td>-102.11</td>\n",
       "    </tr>\n",
       "    <tr>\n",
       "      <th>6</th>\n",
       "      <td>2000-11-29</td>\n",
       "      <td>1</td>\n",
       "      <td>6060.65</td>\n",
       "      <td>6091.58</td>\n",
       "      <td>5978.96</td>\n",
       "      <td>51022320</td>\n",
       "      <td>0.998588</td>\n",
       "      <td>-8.57</td>\n",
       "    </tr>\n",
       "    <tr>\n",
       "      <th>7</th>\n",
       "      <td>2000-11-30</td>\n",
       "      <td>1</td>\n",
       "      <td>5928.08</td>\n",
       "      <td>6015.86</td>\n",
       "      <td>5893.54</td>\n",
       "      <td>61617140</td>\n",
       "      <td>0.978126</td>\n",
       "      <td>-132.57</td>\n",
       "    </tr>\n",
       "    <tr>\n",
       "      <th>8</th>\n",
       "      <td>2000-12-01</td>\n",
       "      <td>1</td>\n",
       "      <td>5928.50</td>\n",
       "      <td>6023.11</td>\n",
       "      <td>5915.33</td>\n",
       "      <td>49440530</td>\n",
       "      <td>1.000071</td>\n",
       "      <td>0.42</td>\n",
       "    </tr>\n",
       "    <tr>\n",
       "      <th>9</th>\n",
       "      <td>2000-12-04</td>\n",
       "      <td>3</td>\n",
       "      <td>5791.51</td>\n",
       "      <td>5933.31</td>\n",
       "      <td>5763.18</td>\n",
       "      <td>37464750</td>\n",
       "      <td>0.976893</td>\n",
       "      <td>-136.99</td>\n",
       "    </tr>\n",
       "    <tr>\n",
       "      <th>10</th>\n",
       "      <td>2000-12-05</td>\n",
       "      <td>1</td>\n",
       "      <td>5994.89</td>\n",
       "      <td>5994.89</td>\n",
       "      <td>5836.83</td>\n",
       "      <td>52939960</td>\n",
       "      <td>1.035117</td>\n",
       "      <td>203.38</td>\n",
       "    </tr>\n",
       "  </tbody>\n",
       "</table>\n",
       "</div>"
      ],
      "text/plain": [
       "        DATES  DELTA_DAYS  PX_LAST  PX_HIGH   PX_LOW  PX_VOLUME      S1/S  \\\n",
       "1  2000-11-22           1  5944.70  6049.60  5937.37   47470800  0.977583   \n",
       "2  2000-11-23           1  6053.04  6055.21  5933.08   37599950  1.018225   \n",
       "3  2000-11-24           1  6145.65  6162.88  5989.13   47878450  1.015300   \n",
       "4  2000-11-27           3  6171.33  6254.17  6167.45   40542910  1.004179   \n",
       "5  2000-11-28           1  6069.22  6172.77  6055.04   68980960  0.983454   \n",
       "6  2000-11-29           1  6060.65  6091.58  5978.96   51022320  0.998588   \n",
       "7  2000-11-30           1  5928.08  6015.86  5893.54   61617140  0.978126   \n",
       "8  2000-12-01           1  5928.50  6023.11  5915.33   49440530  1.000071   \n",
       "9  2000-12-04           3  5791.51  5933.31  5763.18   37464750  0.976893   \n",
       "10 2000-12-05           1  5994.89  5994.89  5836.83   52939960  1.035117   \n",
       "\n",
       "       D_S  \n",
       "1  -136.32  \n",
       "2   108.34  \n",
       "3    92.61  \n",
       "4    25.68  \n",
       "5  -102.11  \n",
       "6    -8.57  \n",
       "7  -132.57  \n",
       "8     0.42  \n",
       "9  -136.99  \n",
       "10  203.38  "
      ]
     },
     "execution_count": 5,
     "metadata": {},
     "output_type": "execute_result"
    }
   ],
   "source": [
    "train_D = [[train[i][j:j+10] for j in range(0,len(train[i]),10)] for i in range(len(train))]\n",
    "train_CAC40 = train_D[0]\n",
    "train_CAC40[0]"
   ]
  },
  {
   "cell_type": "markdown",
   "metadata": {},
   "source": [
    "Calcul de Ku, Kd et lamda"
   ]
  },
  {
   "cell_type": "code",
   "execution_count": 24,
   "metadata": {},
   "outputs": [],
   "source": [
    "def train(L):\n",
    "    Ku = np.ones(len(L[0]))\n",
    "    Kd = np.ones(len(L[0]))\n",
    "\n",
    "    for i in range(len(L)):\n",
    "        for j in range(len(L[i])):\n",
    "            if L[i].iloc[j]['S1/S'] > Ku[j] :\n",
    "                Ku[j] = L[i].iloc[j]['S1/S']\n",
    "            if L[i].iloc[j]['S1/S'] < Kd[j] :\n",
    "                Kd[j] = L[i].iloc[j]['S1/S']\n",
    "\n",
    "    lamda = [(1 - Kd[i])/(Ku[i] - Kd[i]) for i in range(len(Ku))]\n",
    "\n",
    "    V = []\n",
    "    VT = []\n",
    "    ST = []\n",
    "    for i in range(len(L)):\n",
    "        D = []\n",
    "        for j in range(len(L[i])):\n",
    "            if j == 0:\n",
    "                D.append(L[i].iloc[j]['PX_LAST'])\n",
    "            else:\n",
    "                Teta = (g(Ku[j]*L[i].iloc[j]['PX_LAST'])*lamda[j] + g(Kd[j]*L[i].iloc[j]['PX_LAST'])*(1-lamda[j]))/((Ku[j]-Kd[j])*L[i].iloc[j]['PX_LAST'])\n",
    "                D.append(D[-1] + Teta*L[i].iloc[j]['D_S'])\n",
    "        V.append(D)\n",
    "        VT.append(D[-1])\n",
    "        ST.append(L[i].iloc[len(L[i])-1]['PX_LAST'])\n",
    "\n",
    "    return (MSE(ST, VT), Ku, Kd)\n"
   ]
  },
  {
   "cell_type": "code",
   "execution_count": 42,
   "metadata": {},
   "outputs": [],
   "source": [
    "def test(L, Ku, Kd):\n",
    "    lamda = [(1 - Kd[i])/(Ku[i] - Kd[i]) for i in range(len(Ku))]\n",
    "\n",
    "    V = []\n",
    "    VT = []\n",
    "    ST = []\n",
    "    for i in range(len(L)):\n",
    "        D = []\n",
    "        for j in range(len(L[i])):\n",
    "            if j == 0:\n",
    "                D.append(L[i].iloc[j]['PX_LAST'])\n",
    "            else:\n",
    "                Teta = (g(Ku[j]*L[i].iloc[j]['PX_LAST'])*lamda[j] + g(Kd[j]*L[i].iloc[j]['PX_LAST'])*(1-lamda[j]))/((Ku[j]-Kd[j])*L[i].iloc[j]['PX_LAST'])\n",
    "                D.append(D[-1] + Teta*L[i].iloc[j]['D_S'])\n",
    "        V.append(D)\n",
    "        VT.append(D[-1])\n",
    "        ST.append(L[i].iloc[len(L[i])-1]['PX_LAST'])\n",
    "        print(ST[-1])\n",
    "        print(VT[-1])\n",
    "\n",
    "    return MSE(ST, VT)"
   ]
  },
  {
   "cell_type": "code",
   "execution_count": 47,
   "metadata": {},
   "outputs": [
    {
     "name": "stdout",
     "output_type": "stream",
     "text": [
      "4386.35\n",
      "4408.74\n",
      "4332.79\n",
      "4448.33\n",
      "39224628.17649999\n"
     ]
    }
   ],
   "source": [
    "CAC_train = train_CAC40[:50]\n",
    "CAC_test = train_CAC40[200:202]\n",
    "\n",
    "val, Ku, Kd = train(CAC_train)\n",
    "\n",
    "Val = test(CAC_test, Ku, Kd)\n",
    "\n",
    "print(Val)"
   ]
  },
  {
   "attachments": {},
   "cell_type": "markdown",
   "metadata": {},
   "source": [
    "4386.35\n",
    "4408.74\n",
    "4332.79\n",
    "4448.33\n",
    "39224628.17649999"
   ]
  }
 ],
 "metadata": {
  "kernelspec": {
   "display_name": "Python 3",
   "language": "python",
   "name": "python3"
  },
  "language_info": {
   "codemirror_mode": {
    "name": "ipython",
    "version": 3
   },
   "file_extension": ".py",
   "mimetype": "text/x-python",
   "name": "python",
   "nbconvert_exporter": "python",
   "pygments_lexer": "ipython3",
   "version": "3.11.1"
  },
  "orig_nbformat": 4,
  "vscode": {
   "interpreter": {
    "hash": "d83e6637c887f91061be390792ac498ddd2096ac09764be14f2c9b7371d40541"
   }
  }
 },
 "nbformat": 4,
 "nbformat_minor": 2
}
