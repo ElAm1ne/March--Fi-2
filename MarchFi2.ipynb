{
 "cells": [
  {
   "cell_type": "markdown",
   "metadata": {},
   "source": [
    "Install missing modules and imports"
   ]
  },
  {
   "cell_type": "code",
   "execution_count": 116,
   "metadata": {},
   "outputs": [
    {
     "ename": "CalledProcessError",
     "evalue": "Command '['c:\\\\Users\\\\amine\\\\AppData\\\\Local\\\\Programs\\\\Python\\\\Python311\\\\python.exe', '-m', 'pip', 'install', 'scikit-learn', 'numba']' returned non-zero exit status 1.",
     "output_type": "error",
     "traceback": [
      "\u001b[1;31m---------------------------------------------------------------------------\u001b[0m",
      "\u001b[1;31mCalledProcessError\u001b[0m                        Traceback (most recent call last)",
      "Cell \u001b[1;32mIn[116], line 11\u001b[0m\n\u001b[0;32m      9\u001b[0m \u001b[39mif\u001b[39;00m missing:\n\u001b[0;32m     10\u001b[0m     python \u001b[39m=\u001b[39m sys\u001b[39m.\u001b[39mexecutable\n\u001b[1;32m---> 11\u001b[0m     subprocess\u001b[39m.\u001b[39;49mcheck_call([python, \u001b[39m'\u001b[39;49m\u001b[39m-m\u001b[39;49m\u001b[39m'\u001b[39;49m, \u001b[39m'\u001b[39;49m\u001b[39mpip\u001b[39;49m\u001b[39m'\u001b[39;49m, \u001b[39m'\u001b[39;49m\u001b[39minstall\u001b[39;49m\u001b[39m'\u001b[39;49m, \u001b[39m*\u001b[39;49mmissing], stdout\u001b[39m=\u001b[39;49msubprocess\u001b[39m.\u001b[39;49mDEVNULL)\n\u001b[0;32m     13\u001b[0m \u001b[39mimport\u001b[39;00m \u001b[39mpandas\u001b[39;00m \u001b[39mas\u001b[39;00m \u001b[39mpd\u001b[39;00m\n\u001b[0;32m     14\u001b[0m \u001b[39mimport\u001b[39;00m \u001b[39mnumpy\u001b[39;00m \u001b[39mas\u001b[39;00m \u001b[39mnp\u001b[39;00m\n",
      "File \u001b[1;32mc:\\Users\\amine\\AppData\\Local\\Programs\\Python\\Python311\\Lib\\subprocess.py:413\u001b[0m, in \u001b[0;36mcheck_call\u001b[1;34m(*popenargs, **kwargs)\u001b[0m\n\u001b[0;32m    411\u001b[0m     \u001b[39mif\u001b[39;00m cmd \u001b[39mis\u001b[39;00m \u001b[39mNone\u001b[39;00m:\n\u001b[0;32m    412\u001b[0m         cmd \u001b[39m=\u001b[39m popenargs[\u001b[39m0\u001b[39m]\n\u001b[1;32m--> 413\u001b[0m     \u001b[39mraise\u001b[39;00m CalledProcessError(retcode, cmd)\n\u001b[0;32m    414\u001b[0m \u001b[39mreturn\u001b[39;00m \u001b[39m0\u001b[39m\n",
      "\u001b[1;31mCalledProcessError\u001b[0m: Command '['c:\\\\Users\\\\amine\\\\AppData\\\\Local\\\\Programs\\\\Python\\\\Python311\\\\python.exe', '-m', 'pip', 'install', 'scikit-learn', 'numba']' returned non-zero exit status 1."
     ]
    }
   ],
   "source": [
    "import sys\n",
    "import subprocess\n",
    "import pkg_resources\n",
    "\n",
    "required = {'scipy', 'numpy', 'pandas', 'openpyxl', 'scikit-learn', 'numba'}\n",
    "installed = {pkg.key for pkg in pkg_resources.working_set}\n",
    "missing = required - installed\n",
    "\n",
    "if missing:\n",
    "    python = sys.executable\n",
    "    subprocess.check_call([python, '-m', 'pip', 'install', *missing], stdout=subprocess.DEVNULL)\n",
    "\n",
    "import pandas as pd\n",
    "import numpy as np\n",
    "import math\n",
    "from sklearn.model_selection import train_test_split\n",
    "import numba as nb"
   ]
  },
  {
   "cell_type": "markdown",
   "metadata": {},
   "source": [
    "Transform to PD"
   ]
  },
  {
   "cell_type": "code",
   "execution_count": 82,
   "metadata": {},
   "outputs": [],
   "source": [
    "file = 'data.xlsx'\n",
    "df = [pd.read_excel(file, sheet_name = sheet) for sheet in ['CAC', 'DAX', 'IBEX35TR', 'IBEX', 'SX5E', 'SX5T', 'SMI']]\n",
    "for i in range(len(df)):\n",
    "    df[i] = df[i].drop(0)"
   ]
  },
  {
   "cell_type": "markdown",
   "metadata": {},
   "source": [
    "Helpers"
   ]
  },
  {
   "cell_type": "code",
   "execution_count": 109,
   "metadata": {},
   "outputs": [],
   "source": [
    "def MSE(A, B):\n",
    "    err = 0\n",
    "    for i in range(len(A)):\n",
    "        payoff = max(A[i] - K, 0)\n",
    "        err += (payoff - B[i])**2\n",
    "    return err\n",
    "\n",
    "def g(x):\n",
    "    return max(x-K, 0)\n",
    "\n",
    "def Calculate_Kd_Ku(L):\n",
    "    Ku = np.ones(len(L))\n",
    "    Kd = np.ones(len(L))\n",
    "    for j in range(len(L)):\n",
    "        if L.iloc[j]['S1/S'] > Ku[j] :\n",
    "            Ku[j] = L.iloc[j]['S1/S']\n",
    "        if L.iloc[j]['S1/S'] < Kd[j] :\n",
    "            Kd[j] = L.iloc[j]['S1/S']\n",
    "                \n",
    "    return (Ku, Kd)\n",
    "\n",
    "def Ku_Kd_Train(Data_train):\n",
    "    Kus = []\n",
    "    Kds = []\n",
    "    for i in range(len(Data_train)):\n",
    "        Ku_, Kd_ = Calculate_Kd_Ku(Data_train[i])\n",
    "        Kus.append(Ku_)\n",
    "        Kds.append(Kd_)\n",
    "    return Kus, Kds\n",
    "\n",
    "def \n"
   ]
  },
  {
   "cell_type": "markdown",
   "metadata": {},
   "source": [
    "Split data train test"
   ]
  },
  {
   "cell_type": "code",
   "execution_count": 84,
   "metadata": {},
   "outputs": [
    {
     "data": {
      "text/plain": [
       "'\\ntrain_per = 0.6\\ntrain = [df[i].iloc[:math.floor(train_per*df[i].shape[0]) - math.floor(train_per*df[i].shape[0]) % 10] for i in range(len(df))]\\ntest = [df[i].iloc[math.floor(train_per*df[i].shape[0]) - math.floor(train_per*df[i].shape[0]) % 10:(df[i].shape[0]//10)*10] for i in range(len(df))]\\n'"
      ]
     },
     "execution_count": 84,
     "metadata": {},
     "output_type": "execute_result"
    }
   ],
   "source": [
    "'''\n",
    "train_per = 0.6\n",
    "train = [df[i].iloc[:math.floor(train_per*df[i].shape[0]) - math.floor(train_per*df[i].shape[0]) % 10] for i in range(len(df))]\n",
    "test = [df[i].iloc[math.floor(train_per*df[i].shape[0]) - math.floor(train_per*df[i].shape[0]) % 10:(df[i].shape[0]//10)*10] for i in range(len(df))]\n",
    "'''"
   ]
  },
  {
   "attachments": {},
   "cell_type": "markdown",
   "metadata": {},
   "source": [
    "Méthode I : Variante Min sur Dizaine"
   ]
  },
  {
   "cell_type": "code",
   "execution_count": 112,
   "metadata": {},
   "outputs": [],
   "source": [
    "CAC_40 = df[0].iloc[:len(df[0])-len(df[0])%10]\n",
    "n = 3\n",
    "p = 0.75\n",
    "CAC_40_split = np.array_split(CAC_40,len(CAC_40)/(10*n))\n",
    "CAC_40_split = [CAC_40_split[i].iloc[:len(CAC_40_split[i]) - len(CAC_40_split[i])%10] for i in range(len(CAC_40_split))]\n",
    "Data_train = []\n",
    "Data_test = []\n",
    "for i in range(len(CAC_40_split)):\n",
    "    Data_train.append(CAC_40_split[i].iloc[:int(p*len(CAC_40_split[i]) - p*len(CAC_40_split[i])%10)])\n",
    "    Data_test.append(CAC_40_split[i].iloc[int(p*len(CAC_40_split[i]) - p*len(CAC_40_split[i])%10):int(len(CAC_40_split[i]))])\n",
    "    "
   ]
  },
  {
   "attachments": {},
   "cell_type": "markdown",
   "metadata": {},
   "source": [
    "Calcul de Ku, Kd"
   ]
  },
  {
   "cell_type": "code",
   "execution_count": 113,
   "metadata": {},
   "outputs": [],
   "source": [
    "Kus, Kds = Ku_Kd_Train(Data_train)"
   ]
  },
  {
   "cell_type": "code",
   "execution_count": null,
   "metadata": {},
   "outputs": [],
   "source": [
    "def test(L, Ku, Kd):\n",
    "    lamda = [(1 - Kd[i])/(Ku[i] - Kd[i]) for i in range(len(Ku))]\n",
    "\n",
    "    V = []\n",
    "    VT = []\n",
    "    ST = []\n",
    "    for i in range(len(L)):\n",
    "        D = []\n",
    "        for j in range(len(L[i])):\n",
    "            if j == 0:\n",
    "                D.append(L[i].iloc[j]['PX_LAST'])\n",
    "            else:\n",
    "                Teta = (g(Ku[j]*L[i].iloc[j]['PX_LAST'])*lamda[j] + g(Kd[j]*L[i].iloc[j]['PX_LAST'])*(1-lamda[j]))/((Ku[j]-Kd[j])*L[i].iloc[j]['PX_LAST'])\n",
    "                print(Teta)\n",
    "                D.append(D[-1] + Teta*L[i].iloc[j]['D_S'])\n",
    "        V.append(D)\n",
    "        VT.append(D[-1])\n",
    "        ST.append(L[i].iloc[len(L[i])-1]['PX_LAST'])\n",
    "        print(ST[-1])\n",
    "        print(VT[-1])\n",
    "\n",
    "    return MSE(ST, VT)"
   ]
  },
  {
   "cell_type": "code",
   "execution_count": null,
   "metadata": {},
   "outputs": [
    {
     "name": "stdout",
     "output_type": "stream",
     "text": [
      "6.439233469270239\n",
      "7.410538007696552\n",
      "7.441789613483811\n",
      "4.372969634575683\n",
      "7.623282536441189\n",
      "4.7631278133738775\n",
      "5.3240559877536935\n",
      "4.414081073104131\n",
      "4.6366977969931735\n",
      "5424.43\n",
      "6159.20912907253\n",
      "22418133.401100826\n"
     ]
    }
   ],
   "source": [
    "CAC_train = train_CAC40[:10]\n",
    "CAC_test = train_CAC40[10:11]\n",
    "\n",
    "val, Ku, Kd = train(CAC_train)\n",
    "\n",
    "Val = test(CAC_test, Ku, Kd)\n",
    "\n",
    "print(Val)"
   ]
  }
 ],
 "metadata": {
  "kernelspec": {
   "display_name": "Python 3",
   "language": "python",
   "name": "python3"
  },
  "language_info": {
   "codemirror_mode": {
    "name": "ipython",
    "version": 3
   },
   "file_extension": ".py",
   "mimetype": "text/x-python",
   "name": "python",
   "nbconvert_exporter": "python",
   "pygments_lexer": "ipython3",
   "version": "3.11.0 (main, Oct 24 2022, 18:26:48) [MSC v.1933 64 bit (AMD64)]"
  },
  "orig_nbformat": 4,
  "vscode": {
   "interpreter": {
    "hash": "c261aea317cc0286b3b3261fbba9abdec21eaa57589985bb7a274bf54d6cc0a7"
   }
  }
 },
 "nbformat": 4,
 "nbformat_minor": 2
}
